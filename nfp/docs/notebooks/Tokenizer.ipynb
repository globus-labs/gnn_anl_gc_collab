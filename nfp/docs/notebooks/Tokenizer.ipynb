{
 "cells": [
  {
   "cell_type": "markdown",
   "id": "faa7c7d2",
   "metadata": {},
   "source": [
    "# Tokenizer usage examples\n",
    "The `Tokenizer` class allows transforming arbitrary inputs into integer classes"
   ]
  },
  {
   "cell_type": "code",
   "execution_count": 1,
   "id": "494dd02e",
   "metadata": {},
   "outputs": [],
   "source": [
    "from nfp.preprocessing import Tokenizer"
   ]
  },
  {
   "cell_type": "code",
   "execution_count": 2,
   "id": "124e26e2",
   "metadata": {},
   "outputs": [],
   "source": [
    "tokenizer = Tokenizer()\n",
    "tokenizer.train = True"
   ]
  },
  {
   "cell_type": "markdown",
   "id": "8efa725d-a631-4006-831d-9b8364339e80",
   "metadata": {},
   "source": [
    "The `0` and `1` classes are reserved for the `<MASK>` and missing labels, respectively."
   ]
  },
  {
   "cell_type": "code",
   "execution_count": 3,
   "id": "e4c9814b-2ca1-463b-bde7-3ce8bdb2704d",
   "metadata": {},
   "outputs": [
    {
     "data": {
      "text/plain": [
       "[2, 3, 4, 2]"
      ]
     },
     "execution_count": 3,
     "metadata": {},
     "output_type": "execute_result"
    }
   ],
   "source": [
    "[tokenizer(item) for item in ['A', 'B', 'C', 'A']]"
   ]
  },
  {
   "cell_type": "markdown",
   "id": "e318655c-a025-46f9-b1cc-585c9c919c7f",
   "metadata": {},
   "source": [
    "When train is set to `False`, unknown items are assigned the missing label"
   ]
  },
  {
   "cell_type": "code",
   "execution_count": 4,
   "id": "969c1cc4-8d0a-4dab-8cff-abf5a03dc5cf",
   "metadata": {},
   "outputs": [
    {
     "data": {
      "text/plain": [
       "[2, 1]"
      ]
     },
     "execution_count": 4,
     "metadata": {},
     "output_type": "execute_result"
    }
   ],
   "source": [
    "tokenizer.train = False\n",
    "[tokenizer(item) for item in ['A', 'D']]"
   ]
  },
  {
   "cell_type": "markdown",
   "id": "e8af0578-3ab4-47cc-b048-77ecacf474c7",
   "metadata": {},
   "source": [
    "The total number of seen classes is available from the `num_classes` property, useful to initializing embedding layer weights."
   ]
  },
  {
   "cell_type": "code",
   "execution_count": 5,
   "id": "c4565068-117d-4a13-8814-f0fa25ace922",
   "metadata": {},
   "outputs": [
    {
     "data": {
      "text/plain": [
       "4"
      ]
     },
     "execution_count": 5,
     "metadata": {},
     "output_type": "execute_result"
    }
   ],
   "source": [
    "tokenizer.num_classes"
   ]
  }
 ],
 "metadata": {
  "kernelspec": {
   "display_name": "Python 3",
   "language": "python",
   "name": "python3"
  },
  "language_info": {
   "codemirror_mode": {
    "name": "ipython",
    "version": 3
   },
   "file_extension": ".py",
   "mimetype": "text/x-python",
   "name": "python",
   "nbconvert_exporter": "python",
   "pygments_lexer": "ipython3",
   "version": "3.8.10"
  }
 },
 "nbformat": 4,
 "nbformat_minor": 5
}
