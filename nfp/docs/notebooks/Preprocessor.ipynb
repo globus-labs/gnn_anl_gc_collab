{
 "cells": [
  {
   "cell_type": "markdown",
   "id": "96c1943f-7735-494f-b05f-618db18e57f3",
   "metadata": {},
   "source": [
    "# Usage of the preprocessor classes"
   ]
  },
  {
   "cell_type": "markdown",
   "id": "2590eebc-63f0-4075-aa36-6c7da8927729",
   "metadata": {},
   "source": [
    "The `Preprocessor` abstract class defines a number of abstract methods for transforming and encoding graph based inputs. Child classes have been implemented for transforming rdkit molecules and pymatgen structures."
   ]
  },
  {
   "cell_type": "code",
   "execution_count": 19,
   "id": "9225687a-084e-447e-909e-25ed156409d7",
   "metadata": {},
   "outputs": [],
   "source": [
    "from nfp.preprocessing import SmilesPreprocessor\n",
    "preprocessor = SmilesPreprocessor(explicit_hs=False)"
   ]
  },
  {
   "cell_type": "markdown",
   "id": "5e6d308e-3303-4745-beb6-fc7bed2f30af",
   "metadata": {},
   "source": [
    "The default `MolPreprocessor` and `SmilesPreprocessor` classes return three arrays, featurized representations of the graph nodes (atoms), edges (bonds) and a connectivity array"
   ]
  },
  {
   "cell_type": "code",
   "execution_count": 21,
   "id": "c8aef325-c18d-41eb-98e1-1cad6fca411b",
   "metadata": {},
   "outputs": [
    {
     "data": {
      "text/plain": [
       "{'atom': array([2, 4, 3], dtype=int32),\n",
       " 'bond': array([3, 3, 2, 2], dtype=int32),\n",
       " 'connectivity': array([[0, 1],\n",
       "        [1, 0],\n",
       "        [1, 2],\n",
       "        [2, 1]])}"
      ]
     },
     "execution_count": 21,
     "metadata": {},
     "output_type": "execute_result"
    }
   ],
   "source": [
    "preprocessor('CCO', train=True)"
   ]
  },
  {
   "cell_type": "markdown",
   "id": "e0b4fb94-8403-42d4-b6c5-f14c1cdbb387",
   "metadata": {},
   "source": [
    "Here, the integer classes are assigned based on underlying `Tokenizer` classes."
   ]
  },
  {
   "cell_type": "code",
   "execution_count": 22,
   "id": "f8708db7-2af6-4aef-b338-11e3d038e0a4",
   "metadata": {},
   "outputs": [
    {
     "data": {
      "text/plain": [
       "{'unk': 1,\n",
       " \"('C', 1, 3, 3, False)\": 2,\n",
       " \"('O', 1, 1, 1, False)\": 3,\n",
       " \"('C', 2, 2, 2, False)\": 4}"
      ]
     },
     "execution_count": 22,
     "metadata": {},
     "output_type": "execute_result"
    }
   ],
   "source": [
    "preprocessor.atom_tokenizer._data"
   ]
  },
  {
   "cell_type": "markdown",
   "id": "1ecb338c-0b32-410e-a8a4-ab8c2ffd5c1e",
   "metadata": {},
   "source": [
    "The functions used to 'featurize' atoms and bonds "
   ]
  },
  {
   "cell_type": "code",
   "execution_count": null,
   "id": "2adcb25f-32fa-4f01-92ec-242236e208a3",
   "metadata": {},
   "outputs": [],
   "source": [
    "[preprocessor(smiles) for smiles in ['Cc1ccco1', 'C1CCOC1', 'Cc1ccccc1C']]"
   ]
  },
  {
   "cell_type": "code",
   "execution_count": null,
   "id": "1a6e9e54-b4a2-47e5-ae67-b69a6c808dc7",
   "metadata": {},
   "outputs": [],
   "source": [
    "'C1CCNC1'"
   ]
  }
 ],
 "metadata": {
  "kernelspec": {
   "display_name": "Python 3",
   "language": "python",
   "name": "python3"
  },
  "language_info": {
   "codemirror_mode": {
    "name": "ipython",
    "version": 3
   },
   "file_extension": ".py",
   "mimetype": "text/x-python",
   "name": "python",
   "nbconvert_exporter": "python",
   "pygments_lexer": "ipython3",
   "version": "3.8.10"
  }
 },
 "nbformat": 4,
 "nbformat_minor": 5
}
